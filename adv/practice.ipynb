{
 "cells": [
  {
   "cell_type": "code",
   "execution_count": 2,
   "metadata": {},
   "outputs": [
    {
     "name": "stdout",
     "output_type": "stream",
     "text": [
      "1260 500 2\n",
      "1260 500 260\n",
      "260 100 2\n",
      "260 100 60\n",
      "60 50 1\n",
      "60 50 10\n",
      "10 10 1\n",
      "10 10 0\n",
      "6\n"
     ]
    }
   ],
   "source": [
    "n= 1260\n",
    "c = 0 \n",
    "\n",
    "array = [500, 100, 50, 10]\n",
    "\n",
    "for coin in array:\n",
    "    print(n, coin, n//coin)\n",
    "    c = c + n//coin\n",
    "    print(n, coin, n%coin)\n",
    "    n = n%coin\n",
    "\n",
    "print(c)\n",
    "    \n"
   ]
  },
  {
   "cell_type": "code",
   "execution_count": 5,
   "metadata": {},
   "outputs": [
    {
     "name": "stdout",
     "output_type": "stream",
     "text": [
      "2\n"
     ]
    }
   ],
   "source": [
    "\n",
    "n,k = map(int, input().split())\n",
    "# n = 25\n",
    "# k = 5\n",
    "c = 0 \n",
    "\n",
    "while True :\n",
    "    if n%k == 0:\n",
    "        n = n//k\n",
    "    else :\n",
    "        n = n-1\n",
    "\n",
    "    c = c + 1\n",
    "    if n == 1: break\n",
    "    \n",
    "print(c)"
   ]
  },
  {
   "cell_type": "code",
   "execution_count": 7,
   "metadata": {},
   "outputs": [
    {
     "name": "stdout",
     "output_type": "stream",
     "text": [
      "<class 'str'>\n"
     ]
    }
   ],
   "source": [
    "a = input()\n",
    "print(type(a))\n",
    "\n"
   ]
  },
  {
   "cell_type": "code",
   "execution_count": 12,
   "metadata": {},
   "outputs": [
    {
     "name": "stdout",
     "output_type": "stream",
     "text": [
      "576\n"
     ]
    }
   ],
   "source": [
    "# n = map(int, input().split())\n",
    "n=input()\n",
    "# n = \"02984\"\n",
    "# n = [0, 2, 9, 8, 4]\n",
    "# n = [5,6,7]\n",
    "\n",
    "r = int(n[0])\n",
    "# print(len(n))\n",
    "for i in range(len(n)-1) :\n",
    "    i += 1\n",
    "    if int(n[i]) <= 1 or r <= 1:\n",
    "        r = int(n[i]) + r\n",
    "    else :\n",
    "        r = int(n[i])*r\n",
    "\n",
    "\n",
    "\n",
    "print(r)\n",
    "# if "
   ]
  },
  {
   "cell_type": "code",
   "execution_count": 8,
   "metadata": {},
   "outputs": [
    {
     "name": "stdout",
     "output_type": "stream",
     "text": [
      "1\n",
      "3\n"
     ]
    }
   ],
   "source": [
    "a = \"123\"\n",
    "print(a[0])\n",
    "print(len(a))"
   ]
  },
  {
   "cell_type": "code",
   "execution_count": 32,
   "metadata": {},
   "outputs": [
    {
     "name": "stdout",
     "output_type": "stream",
     "text": [
      "[4, 3, 2, 2, 1]\n"
     ]
    }
   ],
   "source": [
    "# t = int(input())\n",
    "# n = list(map(int, input().split()))\n",
    "\n",
    "n = [2, 1, 2, 3, 4]\n",
    "\n",
    "for i in range(0, len(n)):\n",
    "    for j in range(i+1, len(n)) :\n",
    "        if n[i] < n[j] :\n",
    "            temp = n[i]\n",
    "            n[i] = n[j]\n",
    "            n[j] = temp\n",
    "\n",
    "print(n)\n",
    "\n",
    "\n",
    "# h = 1\n",
    "# g = 0\n",
    "# for i in range(0, len(n)) :\n",
    "#     if n[i] = h :\n",
    "#         g += 1\n",
    "#     elif n[i+1] = h+1 :\n",
    "#         g += 1\n",
    "#     elif n[i+2] = h+2 :\n",
    "#         g += 1\n",
    "        "
   ]
  },
  {
   "cell_type": "code",
   "execution_count": 23,
   "metadata": {},
   "outputs": [
    {
     "name": "stdout",
     "output_type": "stream",
     "text": [
      "97 <class 'int'>\n",
      "3\n"
     ]
    }
   ],
   "source": [
    "i =str(1) \n",
    "j = str(2)\n",
    "k = str(3)\n",
    "\n",
    "r = i+j+k\n",
    "# print(r, type(r))\n",
    "\n",
    "text = \"a\"\n",
    "a = ord(text)\n",
    "\n",
    "print(a, type(a))\n",
    "\n",
    "\n",
    "c = ord(\"c\") - ord(\"a\") +1\n",
    "print(c)\n"
   ]
  },
  {
   "cell_type": "code",
   "execution_count": null,
   "metadata": {},
   "outputs": [],
   "source": [
    "a = input()\n",
    "\n",
    "list_str = []\n",
    "list_int = []\n",
    "\n",
    "for i in range(len(a)) :\n",
    "    if type(a[i]) == 'str' :\n",
    "        list_str.append(a[i])\n",
    "    else :\n",
    "        list_int.append(a[i])\n",
    "\n",
    "list_str.sort()\n",
    "\n",
    "\n"
   ]
  },
  {
   "cell_type": "code",
   "execution_count": 30,
   "metadata": {},
   "outputs": [
    {
     "name": "stdout",
     "output_type": "stream",
     "text": [
      "['a', 'b', 'f', 'f']\n",
      "abff\n"
     ]
    }
   ],
   "source": [
    "a = \"a\"\n",
    "b=[\"b\", \"f\", \"f\", \"a\"]\n",
    "a.isalpha()\n",
    "\n",
    "b.sort(reverse = False)\n",
    "print(b)\n",
    "\n",
    "c = ''.join(b)\n",
    "print(c)"
   ]
  },
  {
   "cell_type": "code",
   "execution_count": 34,
   "metadata": {},
   "outputs": [
    {
     "name": "stdout",
     "output_type": "stream",
     "text": [
      "2 2 [5, 7, 9, 0, 3, 1, 6]\n",
      "4 1 [0, 3, 5, 7, 9, 1, 6]\n",
      "5 1 [0, 1, 3, 5, 7, 9, 6]\n",
      "6 4 [0, 1, 3, 5, 6, 7, 9]\n",
      "[0, 1, 3, 5, 6, 7, 9]\n"
     ]
    }
   ],
   "source": [
    "array = [7,5,9,0,3,1,6]\n",
    "\n",
    "for i in range(1, len(array)) :\n",
    "    for j in range(i, 0, -1) :\n",
    "        if array[j] < array[j-1]:\n",
    "            array[j], array[j-1] = array[j-1], array[j]\n",
    "        else : \n",
    "            print(i, j, array)\n",
    "            \n",
    "            break\n",
    "\n",
    "print(array)"
   ]
  },
  {
   "cell_type": "code",
   "execution_count": 36,
   "metadata": {},
   "outputs": [
    {
     "name": "stdout",
     "output_type": "stream",
     "text": [
      "[0, 1, 2, 3, 4, 5, 6, 7, 8, 9]\n"
     ]
    }
   ],
   "source": [
    "arr = [5,7,9,0,3,1,6,2,4,8]\n",
    "\n",
    "def quick_sort(arr, start, end):\n",
    "    if start >= end: return\n",
    "    pivot = start\n",
    "    left = start +1 \n",
    "    right = end\n",
    "    while (left <=right):\n",
    "        while (left <= end and arr[left] <= arr[pivot]):\n",
    "            left += 1\n",
    "        while (right > start and arr[right] >= arr[pivot]):\n",
    "            right -= 1\n",
    "        if left > right :\n",
    "            arr[right], arr[pivot] = arr[pivot], arr[right]\n",
    "\n",
    "        else :\n",
    "            arr[left], arr[right] = arr[right], arr[left]\n",
    "    \n",
    "    # quick_sort(arr, start, left-1)\n",
    "    # quick_sort(arr, left+1, end)\n",
    "    quick_sort(arr, start, right-1)\n",
    "    quick_sort(arr, right+1, end)\n",
    "\n",
    "quick_sort(arr, 0, len(arr)-1)\n",
    "print(arr)"
   ]
  },
  {
   "cell_type": "code",
   "execution_count": 38,
   "metadata": {},
   "outputs": [
    {
     "name": "stdout",
     "output_type": "stream",
     "text": [
      "[0, 0, 0, 0, 0, 0, 0, 0, 0, 0] 10\n"
     ]
    }
   ],
   "source": [
    "arr = [7,5,9,0,3,1,6,2,9,1,4,8,0,5,2]\n",
    "\n",
    "c = [0] *(max(arr)+1)\n",
    "\n",
    "print(c, len(c))"
   ]
  },
  {
   "cell_type": "code",
   "execution_count": 56,
   "metadata": {},
   "outputs": [
    {
     "name": "stdout",
     "output_type": "stream",
     "text": [
      "1 1 <class 'int'> <class 'int'>\n"
     ]
    }
   ],
   "source": [
    "n, m = list(map(int, input().split(' ')))\n",
    "# n, m = map(int, input().split())\n",
    "# n = map(int, input().split(' '))\n",
    "\n",
    "# arr = list(map(int, input().split()))\n",
    "# arr = map(int, input().split())\n",
    "\n",
    "\n",
    "print(n, m, type(n), type(m))\n",
    "# print(n, type(n))\n",
    "# print(arr, type(arr))"
   ]
  },
  {
   "cell_type": "code",
   "execution_count": 57,
   "metadata": {},
   "outputs": [
    {
     "name": "stdout",
     "output_type": "stream",
     "text": [
      "1\n",
      "2\n"
     ]
    }
   ],
   "source": [
    "for i in range(1, 3) :\n",
    "    print(i)"
   ]
  },
  {
   "cell_type": "code",
   "execution_count": 5,
   "metadata": {},
   "outputs": [
    {
     "name": "stdout",
     "output_type": "stream",
     "text": [
      "3 [[1000000000, 1000000000, 1000000000], [1000000000, 1000000000, 1000000000], [1000000000, 1000000000, 1000000000]]\n"
     ]
    }
   ],
   "source": [
    "inf = int(1e9)\n",
    "n = 2\n",
    "graph = [[inf]*(n+1) for _ in range(n+1)]\n",
    "\n",
    "print(len(graph), graph)"
   ]
  }
 ],
 "metadata": {
  "kernelspec": {
   "display_name": "Python 3",
   "language": "python",
   "name": "python3"
  },
  "language_info": {
   "codemirror_mode": {
    "name": "ipython",
    "version": 3
   },
   "file_extension": ".py",
   "mimetype": "text/x-python",
   "name": "python",
   "nbconvert_exporter": "python",
   "pygments_lexer": "ipython3",
   "version": "3.10.11"
  }
 },
 "nbformat": 4,
 "nbformat_minor": 2
}
